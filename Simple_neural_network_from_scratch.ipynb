{
  "metadata": {
    "kernelspec": {
      "language": "python",
      "display_name": "Python 3",
      "name": "python3"
    },
    "language_info": {
      "name": "python",
      "version": "3.10.14",
      "mimetype": "text/x-python",
      "codemirror_mode": {
        "name": "ipython",
        "version": 3
      },
      "pygments_lexer": "ipython3",
      "nbconvert_exporter": "python",
      "file_extension": ".py"
    },
    "kaggle": {
      "accelerator": "none",
      "dataSources": [
        {
          "sourceId": 3004,
          "databundleVersionId": 861823,
          "sourceType": "competition"
        }
      ],
      "dockerImageVersionId": 30761,
      "isInternetEnabled": true,
      "language": "python",
      "sourceType": "notebook",
      "isGpuEnabled": false
    },
    "colab": {
      "name": "Simple_neural_network_from_scratch",
      "provenance": []
    }
  },
  "nbformat_minor": 0,
  "nbformat": 4,
  "cells": [
    {
      "cell_type": "markdown",
      "source": [
        "# Fully connected neural network from scratch"
      ],
      "metadata": {
        "id": "Ga5HRdylOE70"
      }
    },
    {
      "cell_type": "markdown",
      "source": [
        "## MNIST dataset\n",
        "Handwritten digits dataset (classification task).\n",
        "https://www.kaggle.com/datasets/hojjatk/mnist-dataset\n",
        "\n",
        "Training set size = 60,000  \n",
        "Test set size = 10,000\n",
        "\n",
        "Four files: training data, training labels, test data, test labels\n",
        "\n",
        "Each data sample is a 28x28 pixel image (784 pixels total per image)\n",
        "Each pixel is a value between 0 and 255 (0 is completely black, 255 is completely white)\n",
        "\n",
        "<img src=\"attachment:a2c80960-20f9-41c9-8daa-1e906a606e11.png\" width=\"50%\">\n",
        "\n",
        "In the X matrix, each row is an each input sample, in this case each image. Each row will be of length 784, each column representing each pixel of the image. The X matrix is transposed, so now each column represents an image, and each column has 784 rows."
      ],
      "metadata": {
        "id": "vb78R2joOE73"
      }
    },
    {
      "cell_type": "markdown",
      "source": [
        "## Neural network architecture\n",
        "\n",
        "<img src=\"attachment:29658bd3-33cb-40dd-abeb-424e342f91f9.png\" width=\"40%\">\n",
        "\n",
        "Input layer has 784 nodes, one for each pixel."
      ],
      "metadata": {
        "id": "nC7jgDJbOE75"
      }
    },
    {
      "cell_type": "markdown",
      "source": [
        "## Forward pass\n",
        "\n",
        "<img src=\"attachment:c653a6d5-95b6-4728-a391-8a1940d38dc5.png\" width=\"40%\">\n",
        "\n",
        "A[0] is the input matrix X (784 rows, m columns).  \n",
        "m is the number of samples.\n",
        "\n",
        "Z[1] equals dot product of weight matrix W[1] and inputs A[0], plus bias b[1].  \n",
        "A[1] is the activation function applied to Z[1], ReLU in this case.\n",
        "\n",
        "<img src='attachment:4ed81514-cabb-4072-94e8-16bb8f7e7a10.png' width=\"40%\">\n",
        "\n",
        "Z[2] equals dot product of a second weight matrix W[2] and A[1], plus a second bias term b[2].  \n",
        "A[2] is another activation function applied to Z[2], this time softmax.\n",
        "Softmax produces probabilities of each outcome, summing to 1 (produces probability distribution). There are ten possible outcomes, one for each written number 0-9.\n",
        "\n",
        "<img src='attachment:254ae7f5-a9a6-41de-bc62-531eb9306d66.png' width=\"40%\">"
      ],
      "metadata": {
        "id": "dSfy0H92OE75"
      }
    },
    {
      "cell_type": "markdown",
      "source": [
        "## Backpropagation\n",
        "Equations:  \n",
        "\n",
        "<img src='attachment:cdfd53d9-386e-46f0-88ad-8cd2e83f6f24.png' width=\"40%\">\n",
        "\n",
        "dZ[2] measures the diff between the predicted output A[2] and the acutal label y. If for example y was 4, y is represented as the one-hot vector:\n",
        "[0, 0, 0, 0, 1, 0, 0, 0, 0, 0].\n",
        "\n",
        "dW[2] is the derivative of the loss function with respect to the weights in layer 2. Its the loss times by A[1], divided by the number of examples m.  \n",
        "db[2] is just the average of the loss of the second layer dZ[2].\n",
        "\n",
        "<img src='attachment:2886d135-63fc-46e7-9700-ece1aaefd985.png' width=\"40%\">\n",
        "\n",
        "dZ[1] is the loss with respect to the pre-activation nodes in layer 1. Its the loss times by the second weight matrix W[2], multiplied again by the derivative of the activation function g'(Z[1]).\n",
        "\n",
        "dW[1] is the derivative of the loss function with respect to the weights in layer 1. Its the loss times by X, divided by the number of examples m.  \n",
        "\n",
        "db[1] is the derivative of the loss function with respect to the bias in layer 1. Its the average of the loss of the first layer dZ[1]."
      ],
      "metadata": {
        "id": "JNsTGgGwOE77"
      }
    },
    {
      "cell_type": "markdown",
      "source": [
        "## Update parameters\n",
        "\n",
        "<img src='attachment:2acbaaae-58e4-42ef-aa67-5e012a3929b7.png' width=\"40%\">\n"
      ],
      "metadata": {
        "id": "hSYeS6mmOE78"
      }
    },
    {
      "cell_type": "markdown",
      "source": [
        "## Code"
      ],
      "metadata": {
        "id": "ExkXFReROE79"
      }
    },
    {
      "cell_type": "code",
      "source": [
        "#Imports\n",
        "import numpy as np\n",
        "import pandas as pd\n",
        "from matplotlib import pyplot as plt"
      ],
      "metadata": {
        "execution": {
          "iopub.status.busy": "2024-09-15T20:08:08.462066Z",
          "iopub.execute_input": "2024-09-15T20:08:08.462508Z",
          "iopub.status.idle": "2024-09-15T20:08:08.950462Z",
          "shell.execute_reply.started": "2024-09-15T20:08:08.462459Z",
          "shell.execute_reply": "2024-09-15T20:08:08.94913Z"
        },
        "trusted": true,
        "id": "3hW4FehsOE79"
      },
      "execution_count": null,
      "outputs": []
    },
    {
      "cell_type": "code",
      "source": [
        "#Data processing\n",
        "data = pd.read_csv('/kaggle/input/digit-recognizer/train.csv')"
      ],
      "metadata": {
        "execution": {
          "iopub.status.busy": "2024-09-15T20:08:10.782227Z",
          "iopub.execute_input": "2024-09-15T20:08:10.782907Z",
          "iopub.status.idle": "2024-09-15T20:08:15.128082Z",
          "shell.execute_reply.started": "2024-09-15T20:08:10.782854Z",
          "shell.execute_reply": "2024-09-15T20:08:15.126757Z"
        },
        "trusted": true,
        "id": "HKGNYTKkOE7-"
      },
      "execution_count": null,
      "outputs": []
    },
    {
      "cell_type": "code",
      "source": [
        "data = np.array(data)\n",
        "m, n = data.shape\n",
        "np.random.shuffle(data) # shuffle before splitting into dev and training sets\n",
        "\n",
        "data_dev = data[0:1000].T\n",
        "Y_dev = data_dev[0]\n",
        "X_dev = data_dev[1:n]\n",
        "X_dev = X_dev / 255. # Normalise the data\n",
        "\n",
        "data_train = data[1000:m].T\n",
        "Y_train = data_train[0]\n",
        "X_train = data_train[1:n]\n",
        "X_train = X_train / 255. # Normalise again\n",
        "_,m_train = X_train.shape"
      ],
      "metadata": {
        "execution": {
          "iopub.status.busy": "2024-09-15T20:08:15.130745Z",
          "iopub.execute_input": "2024-09-15T20:08:15.131169Z",
          "iopub.status.idle": "2024-09-15T20:08:15.977739Z",
          "shell.execute_reply.started": "2024-09-15T20:08:15.131127Z",
          "shell.execute_reply": "2024-09-15T20:08:15.976287Z"
        },
        "trusted": true,
        "id": "sL3j0cB4OE7_"
      },
      "execution_count": null,
      "outputs": []
    },
    {
      "cell_type": "code",
      "source": [
        "X_train.shape"
      ],
      "metadata": {
        "execution": {
          "iopub.status.busy": "2024-09-15T20:08:18.42407Z",
          "iopub.execute_input": "2024-09-15T20:08:18.42455Z",
          "iopub.status.idle": "2024-09-15T20:08:18.433252Z",
          "shell.execute_reply.started": "2024-09-15T20:08:18.424505Z",
          "shell.execute_reply": "2024-09-15T20:08:18.432043Z"
        },
        "trusted": true,
        "id": "VcOnFQoOOE8A",
        "outputId": "921c3fbe-386f-4337-8c38-79643d1c5524"
      },
      "execution_count": null,
      "outputs": [
        {
          "execution_count": 5,
          "output_type": "execute_result",
          "data": {
            "text/plain": "(784, 41000)"
          },
          "metadata": {}
        }
      ]
    },
    {
      "cell_type": "code",
      "source": [
        "np.random.rand(1)"
      ],
      "metadata": {
        "execution": {
          "iopub.status.busy": "2024-09-15T20:08:20.805882Z",
          "iopub.execute_input": "2024-09-15T20:08:20.806311Z",
          "iopub.status.idle": "2024-09-15T20:08:20.815268Z",
          "shell.execute_reply.started": "2024-09-15T20:08:20.80627Z",
          "shell.execute_reply": "2024-09-15T20:08:20.813831Z"
        },
        "trusted": true,
        "id": "L8CT972OOE8B",
        "outputId": "9ff0c4a3-3c1a-4830-dbb9-67c78fd5b3d9"
      },
      "execution_count": null,
      "outputs": [
        {
          "execution_count": 6,
          "output_type": "execute_result",
          "data": {
            "text/plain": "array([0.22587045])"
          },
          "metadata": {}
        }
      ]
    },
    {
      "cell_type": "code",
      "source": [
        "def init_params():\n",
        "    W1 = np.random.randn(10, 784) * np.sqrt(1. / 784)\n",
        "    b1 = np.zeros((10, 1))\n",
        "    W2 = np.random.randn(10, 10) * np.sqrt(1. / 10)\n",
        "    b2 = np.zeros((10, 1))\n",
        "    return W1, b1, W2, b2\n",
        "\n",
        "def ReLU(Z):\n",
        "    return np.maximum(Z, 0)\n",
        "\n",
        "def ReLU_deriv(Z):\n",
        "    return Z > 0\n",
        "\n",
        "def softmax(Z):\n",
        "    exp_Z = np.exp(Z - np.max(Z, axis=0, keepdims=True))\n",
        "    return exp_Z / np.sum(exp_Z, axis=0, keepdims=True)\n",
        "\n",
        "def forward_prop(W1, b1, W2, b2, X):\n",
        "    Z1 = W1.dot(X) + b1\n",
        "    A1 = ReLU(Z1)\n",
        "    Z2 = W2.dot(A1) + b2\n",
        "    A2 = softmax(Z2)\n",
        "    return Z1, A1, Z2, A2\n",
        "\n",
        "def one_hot(Y):\n",
        "    one_hot_Y = np.zeros((Y.size, Y.max()+1)) #Try changing Y.max()+1 to just 10, surely this makes more sense? Investigate what would happen. *It does work\n",
        "    one_hot_Y[np.arange(Y.size), Y] = 1\n",
        "    one_hot_Y = one_hot_Y.T\n",
        "    return one_hot_Y\n",
        "\n",
        "def back_prop(Z1, A1, Z2, A2, W1, W2, X, Y):\n",
        "    one_hot_Y = one_hot(Y)\n",
        "    dZ2 = A2 - one_hot_Y\n",
        "    dW2 = dZ2.dot(A1.T) / m #Could it be A1.T.dot(dZ2) #Could it be dZ2.dot(A1.T) / m (same goes for other derivatives) *no and yes\n",
        "    db2 = np.sum(dZ2) / m\n",
        "    dZ1 = W2.T.dot(dZ2) * ReLU_deriv(Z1)\n",
        "    dW1 = dZ1.dot(X.T) / m\n",
        "    db1 = np.sum(dZ1) / m\n",
        "    return dW2, db2, dW1, db1\n",
        "\n",
        "def update_params(W2, b2, W1, b1, dW2, db2, dW1, db1, alpha):\n",
        "    W2 = W2 - alpha * dW2\n",
        "    b2 = b2 - alpha * db2\n",
        "    W1 = W1 - alpha * dW1\n",
        "    b1 = b1 - alpha * db1\n",
        "    return W2, b2, W1, b1"
      ],
      "metadata": {
        "execution": {
          "iopub.status.busy": "2024-09-15T20:15:36.470894Z",
          "iopub.execute_input": "2024-09-15T20:15:36.472045Z",
          "iopub.status.idle": "2024-09-15T20:15:36.488919Z",
          "shell.execute_reply.started": "2024-09-15T20:15:36.47199Z",
          "shell.execute_reply": "2024-09-15T20:15:36.48738Z"
        },
        "trusted": true,
        "id": "L7grGcjEOE8C"
      },
      "execution_count": null,
      "outputs": []
    },
    {
      "cell_type": "code",
      "source": [
        "def get_predictions(A2):\n",
        "    return np.argmax(A2, 0)\n",
        "\n",
        "def get_accuracy(predictions, Y):\n",
        "    #print(predictions, Y)\n",
        "    return np.sum(predictions==Y) / Y.size\n",
        "\n",
        "def gradient_descent(X, Y, alpha, num_iterations):\n",
        "    W1, b1, W2, b2 = init_params()\n",
        "    for i in range(num_iterations):\n",
        "        Z1, A1, Z2, A2 = forward_prop(W1, b1, W2, b2, X)\n",
        "        dW2, db2, dW1, db1 = back_prop(Z1, A1, Z2, A2, W1, W2, X, Y)\n",
        "        W2, b2, W1, b1 = update_params(W2, b2, W1, b1, dW2, db2, dW1, db1, alpha)\n",
        "        if i % 100 == 0:\n",
        "            print(\"Iteration: \", i)\n",
        "            predictions = get_predictions(A2)\n",
        "            print(get_accuracy(predictions, Y))\n",
        "    return W1, b1, W2, b2"
      ],
      "metadata": {
        "execution": {
          "iopub.status.busy": "2024-09-15T20:17:22.22688Z",
          "iopub.execute_input": "2024-09-15T20:17:22.227313Z",
          "iopub.status.idle": "2024-09-15T20:17:22.238901Z",
          "shell.execute_reply.started": "2024-09-15T20:17:22.227272Z",
          "shell.execute_reply": "2024-09-15T20:17:22.237442Z"
        },
        "trusted": true,
        "id": "QzI8tAb6OE8D"
      },
      "execution_count": null,
      "outputs": []
    },
    {
      "cell_type": "code",
      "source": [
        "W1, b1, W2, b2 = gradient_descent(X_train, Y_train, 0.1, 500)"
      ],
      "metadata": {
        "execution": {
          "iopub.status.busy": "2024-09-15T20:19:42.030178Z",
          "iopub.execute_input": "2024-09-15T20:19:42.030733Z",
          "iopub.status.idle": "2024-09-15T20:20:40.736539Z",
          "shell.execute_reply.started": "2024-09-15T20:19:42.030676Z",
          "shell.execute_reply": "2024-09-15T20:20:40.734761Z"
        },
        "trusted": true,
        "id": "ye0tH4N-OE8D",
        "outputId": "f5e3898f-41ae-44e5-d73d-d2586ac0a581"
      },
      "execution_count": null,
      "outputs": [
        {
          "name": "stdout",
          "text": "Iteration:  0\n0.12770731707317073\nIteration:  100\n0.7362682926829268\nIteration:  200\n0.8770975609756098\nIteration:  300\n0.8939024390243903\nIteration:  400\n0.9016341463414634\n",
          "output_type": "stream"
        }
      ]
    },
    {
      "cell_type": "markdown",
      "source": [
        "## Make predictions on dev set"
      ],
      "metadata": {
        "id": "wIyQ8cZAOE8D"
      }
    },
    {
      "cell_type": "code",
      "source": [
        "def make_predictions(X, W1, b1, W2, b2):\n",
        "    _, _, _, A2 = forward_prop(W1, b1, W2, b2, X)\n",
        "    new_predictions = get_predictions(A2)\n",
        "    return new_predictions"
      ],
      "metadata": {
        "execution": {
          "iopub.status.busy": "2024-09-15T20:20:45.735791Z",
          "iopub.execute_input": "2024-09-15T20:20:45.737221Z",
          "iopub.status.idle": "2024-09-15T20:20:45.743645Z",
          "shell.execute_reply.started": "2024-09-15T20:20:45.73716Z",
          "shell.execute_reply": "2024-09-15T20:20:45.742109Z"
        },
        "trusted": true,
        "id": "Y5yY_fboOE8E"
      },
      "execution_count": null,
      "outputs": []
    },
    {
      "cell_type": "code",
      "source": [
        "dev_predictions = make_predictions(X_dev, W1, b1, W2, b2)\n",
        "get_accuracy(dev_predictions, Y_dev)"
      ],
      "metadata": {
        "execution": {
          "iopub.status.busy": "2024-09-15T20:20:51.322155Z",
          "iopub.execute_input": "2024-09-15T20:20:51.322659Z",
          "iopub.status.idle": "2024-09-15T20:20:51.349194Z",
          "shell.execute_reply.started": "2024-09-15T20:20:51.322609Z",
          "shell.execute_reply": "2024-09-15T20:20:51.34743Z"
        },
        "trusted": true,
        "id": "LAE9bPxfOE8E",
        "outputId": "77388c70-bc92-4346-99d6-338bd877da22"
      },
      "execution_count": null,
      "outputs": [
        {
          "execution_count": 19,
          "output_type": "execute_result",
          "data": {
            "text/plain": "0.898"
          },
          "metadata": {}
        }
      ]
    },
    {
      "cell_type": "markdown",
      "source": [
        "## Make predictions on test set"
      ],
      "metadata": {
        "id": "MsJTkeAVOE8E"
      }
    },
    {
      "cell_type": "code",
      "source": [
        "X_test = pd.read_csv('/kaggle/input/digit-recognizer/test.csv')\n",
        "X_test = np.array(X_test)\n",
        "X_test = X_test.T"
      ],
      "metadata": {
        "execution": {
          "iopub.status.busy": "2024-09-15T20:20:56.371834Z",
          "iopub.execute_input": "2024-09-15T20:20:56.372262Z",
          "iopub.status.idle": "2024-09-15T20:20:58.996511Z",
          "shell.execute_reply.started": "2024-09-15T20:20:56.37222Z",
          "shell.execute_reply": "2024-09-15T20:20:58.994747Z"
        },
        "trusted": true,
        "id": "Y5HvySzZOE8F"
      },
      "execution_count": null,
      "outputs": []
    },
    {
      "cell_type": "code",
      "source": [
        "X_test.shape"
      ],
      "metadata": {
        "execution": {
          "iopub.status.busy": "2024-09-15T20:21:03.841304Z",
          "iopub.execute_input": "2024-09-15T20:21:03.841741Z",
          "iopub.status.idle": "2024-09-15T20:21:03.849912Z",
          "shell.execute_reply.started": "2024-09-15T20:21:03.841699Z",
          "shell.execute_reply": "2024-09-15T20:21:03.848401Z"
        },
        "trusted": true,
        "id": "cm9v1PaZOE8F",
        "outputId": "91ba1dba-b081-46d2-9ac3-06ffbdc67ae7"
      },
      "execution_count": null,
      "outputs": [
        {
          "execution_count": 21,
          "output_type": "execute_result",
          "data": {
            "text/plain": "(784, 28000)"
          },
          "metadata": {}
        }
      ]
    },
    {
      "cell_type": "code",
      "source": [
        "test_preds = make_predictions(X_test, W1, b1, W2, b2)"
      ],
      "metadata": {
        "execution": {
          "iopub.status.busy": "2024-09-15T20:21:07.289539Z",
          "iopub.execute_input": "2024-09-15T20:21:07.290499Z",
          "iopub.status.idle": "2024-09-15T20:21:07.416985Z",
          "shell.execute_reply.started": "2024-09-15T20:21:07.290448Z",
          "shell.execute_reply": "2024-09-15T20:21:07.41528Z"
        },
        "trusted": true,
        "id": "depkyEtJOE8G"
      },
      "execution_count": null,
      "outputs": []
    },
    {
      "cell_type": "code",
      "source": [
        "submission = pd.DataFrame({\n",
        "    \"ImageId\": range(1, 28001),\n",
        "    \"Label\": test_preds\n",
        "})\n",
        "submission.to_csv('submission.csv', index=False)"
      ],
      "metadata": {
        "execution": {
          "iopub.status.busy": "2024-09-15T20:21:16.936256Z",
          "iopub.execute_input": "2024-09-15T20:21:16.937086Z",
          "iopub.status.idle": "2024-09-15T20:21:16.988838Z",
          "shell.execute_reply.started": "2024-09-15T20:21:16.937034Z",
          "shell.execute_reply": "2024-09-15T20:21:16.987642Z"
        },
        "trusted": true,
        "id": "9HYDL2JMOE8G"
      },
      "execution_count": null,
      "outputs": []
    }
  ]
}